{
 "cells": [
  {
   "cell_type": "markdown",
   "metadata": {},
   "source": [
    "# Using  EAGO with a script-defined problem:  \n",
    "### *Kinetic parameter estimation with implicit Euler integration*\n",
    "\n",
    "[Matthew Wilhelm](https://psor.uconn.edu/person/matthew-wilhelm/)  \n",
    "Department of Chemical and Biomolecular Engineering, University of Connecticut\n",
    "\n",
    "EAGO includes a specialized series of routines which can solve certain optimization problems by relaxing implicit functions directly without the introduction of additional auxilliary variables. The implicit functions, $\\mathbf{x(p)}$ are defined by a series of equalities $\\mathbf{h}(\\mathbf{x},\\mathbf{p}) = \\mathbf{0}$ on some domain $(X \\times P)$ allow for the problem to be treated implicitly using the below form. While exact evaluations of the objective function and constraints in this form are difficult, relaxations used in global optimization are much easier to calculate. In some cases, this problem may be much easier to solve when formulated in this manner due to a significant reduction in decision variable space (in cases where $n_x >> n_p$). \n",
    "\n",
    "$\n",
    "\\begin{align}\\label{form:2}\n",
    "    f^*=&\\min_{\\mathbf p \\in P}f(\\mathbf x(\\mathbf p),\\mathbf p)\\\\\n",
    "    &{\\rm s.t.}\\; \\mathbf{g(x(p),p)\\le 0}.\n",
    "\\end{align}\n",
    "$"
   ]
  },
  {
   "cell_type": "markdown",
   "metadata": {},
   "source": [
    "## Problem Setup and Motivation\n",
    "\n",
    "In **nlpopt_explicit_kinetic.ipynb** we described how the kinetic parameter estimation problem can be solved in EAGO using an explicit script formulation that arises from explicit Euler discretization. In this notebook, we'll illustrate how the implicit Euler discretization can be solved using EAGO's unique implicit global optimizer. Consider the implicit euler discretization of the problem estimation problem described in [1-4]:\n",
    "\n",
    "$\n",
    "\\begin{align} \n",
    "x_A^{i} &= x_A^{i-1} + \\Delta t \\left(k_1 x_Y^{i} x_Z^{i} - C_{O2}(k_{2f}+k_{3f})x_A^i + \\frac{k_{2f}}{K_2}x^i_D + \\frac{k_{3f}}{K_3}x^i_B - k_5 (x_A^i)^2 \\right) \\\\\n",
    "x_B^{i} &= x_B^{i-1} + \\Delta t \\left(k_{3f}C_{O2}x_A^i - \\left(\\frac{k_{3f}}{K_3} + k_4\\right)x_B^i\\right) \\\\\n",
    "x_D^{i} &= x_D^{i-1} + \\Delta t \\left(k_{2f}C_{O2}x_A^i - \\frac{k_{2f}}{K_2} x_D^i\\right) \\\\\n",
    "x_Y^{i} &= x_Y^{i-1} + \\Delta t \\left(-k_{1s} x_Y^i x_Z^i \\right) \\\\\n",
    "x_Z^{i} &= x_Z^{i-1} + \\Delta t \\left(-k_{1s} x_Y^i x_Z^i\\right) \\label{ex:ImplicitEuler1}\n",
    "\\end{align}\n",
    "$"
   ]
  },
  {
   "cell_type": "markdown",
   "metadata": {},
   "source": [
    "## Formulate objective\n",
    "We formulate the objective as a regular function of the state variables $\\mathbf{x}$ and the control variables $\\mathbf{p}$."
   ]
  },
  {
   "cell_type": "code",
   "execution_count": null,
   "metadata": {},
   "outputs": [],
   "source": [
    "using EAGO, JuMP, DataFrames, CSV\n",
    "\n",
    "data = CSV.read('kinetic_intensity_data.csv')\n",
    "xbnds = CSV.read('implicit_variable_bounds.csv')\n",
    "xl, xu = xbnds[:lower], xbnds[:upper]\n",
    "\n",
    "pl = [10.0  10.0  0.001]\n",
    "pu = [1200.0  1200.0  40.0]\n",
    "\n",
    "# Define function for intensity\n",
    "I(x,y,z) = x + (2/21)*y + (2/21)*z\n",
    "\n",
    "# Objective and constraint functions are defined\n",
    "function f(x,p)\n",
    "    SSE = 0.0\n",
    "    for i=1:200\n",
    "        SSE += (I(x[5i-4],x[5i-3],x[5i-2]) - data[:intensity][i])^2\n",
    "    end\n",
    "    return SSE\n",
    "end"
   ]
  },
  {
   "cell_type": "markdown",
   "metadata": {},
   "source": [
    "## Define the implicit function & jacobian of state function\n",
    "\n",
    "We now define the function $\\mathbf{h}(\\mathbf{x},\\mathbf{p}) = \\mathbf{0}$ which defines the state variable. EAGO's implicit solver assumes this function is defined in place as a function of the output variables, state variables, and control variables, respectively."
   ]
  },
  {
   "cell_type": "code",
   "execution_count": 2,
   "metadata": {},
   "outputs": [
    {
     "data": {
      "text/plain": [
       "h! (generic function with 1 method)"
      ]
     },
     "execution_count": 2,
     "metadata": {},
     "output_type": "execute_result"
    }
   ],
   "source": [
    "# Specifies equalities function that define implicit function\n",
    "function h!(out,x,p)\n",
    "\n",
    "    fill!(out,zero(typeof(p)))    # reset the storage array\n",
    "    out[4] = 0.4; out[5] = 140         # sets initial condition\n",
    "    \n",
    "    # sets known parameter values\n",
    "    T = 273; delT = 0.01; cO2 = 2e-3; k1 = 53; k1s = k1*1e-6\n",
    "    K2 = 46exp(-6500/T-18); K3 = 2*K2;  \n",
    "   \n",
    "    for i in 1:200\n",
    "        # Calculation of intermediate terms\n",
    "        termA = delT*(k1s*x[5i+4]*x[5i+5]-cO2*(p[1]+p[2])*x[5i+1])\n",
    "        termB = delT*(p[1]*x[5i+1]/K2+p[2]*x[5i+2]/K3-k5*x[5i+1]^2)\n",
    "        termC = p[2]*cO2*x[5i+1]-(p[2]/K3+p[3])x[5i+2]\n",
    "        termD = p[1]*cO2*x[5i+1]-p[1]*x[5i+3]/K2\n",
    "    \n",
    "        # Calculation of next time step\n",
    "        out[5i+1] =  x[5i-4] - x[5i+1] + termA + termB\n",
    "        out[5i+2] = x[5i-3] - x[5i+2] + delT*termC\n",
    "        out[5i+3] = x[5i-2] - x[5i+3] + delT*termD\n",
    "        out[5i+4] = x[5i-1] - x[5i+4] + delT*(-k1s*x[5i+4]*x[5i+5])\n",
    "        out[5i+5] = x[5i] - x[5i+5] + delT*(-k1s*x[5i+4]*x[5i+5])\n",
    "    end\n",
    "    \n",
    "end"
   ]
  },
  {
   "cell_type": "markdown",
   "metadata": {},
   "source": [
    "We now define the the jacobian of the state function *w.r.t* to state variables only. This function must be supplied in place as this allows better integration with different linear algebra libraries. **EAGO** will use an automated differentiation library to calculate this function if the user does not provide it. However, some performance improvement is expected when a user-defined function is supplied. Typically, this improvement is on the order of 3-10x."
   ]
  },
  {
   "cell_type": "code",
   "execution_count": null,
   "metadata": {},
   "outputs": [],
   "source": [
    "# Specifies equalities function that define implicit function\n",
    "function hj!(out,x,p)\n",
    "\n",
    "    fill!(out,zero(typeof(p[1])))    # reset the storage array\n",
    "    out[4] = 0.4; out[5] = 140       # sets initial condition\n",
    "    \n",
    "    # sets known parameter values\n",
    "    T = 273; delT = 0.01; cO2 = 2e-3; k1 = 53; k1s = k1*1e-6\n",
    "    K2 = 46exp(6500/T-18); K3 = 2*K2;  \n",
    "   \n",
    "    for i in 1:200\n",
    "        # Calculation of intermediate terms (not used)\n",
    "        #termA = delT*(k1*x[5i+4]*x[5i+5]-cO2*(p[1]+p[2])*x[5i+1])\n",
    "        #termB = delT*(p[1]*x[5i+1]/K2+p[2]*x[5i+2]/K3-k5*x[5i+1]^2)\n",
    "        #termC = p[2]*cO2*x[5i+1]-(p[2]/K3+p[3])x[5i+2]\n",
    "        #termD = p[1]*cO2*x[5i+1]-p[1]/K2\n",
    "    \n",
    "        # partials of  x[5i-4] - x[5i+1] + delT*(k1s*x[5i+4]*x[5i+5]-cO2*(p[1]+p[2])*x[5i+1]) \n",
    "        #                                + delT*(p[1]*x[5i+1]/K2+p[2]*x[5i+2]/K3-k5*x[5i+1]^2)\n",
    "        out[5i+1,5i-4] =  one(p[1])\n",
    "        out[5i+1,5i+1] = -one(p[1]) - delT*cO2*(p[1]+p[2]) + (delT/K2)*p[1] - (2.0*delT*k5)*x[5i+1]\n",
    "        out[5i+1,5i+2] = delT*p[2]/K3\n",
    "        out[5i+1,5i+4] = delT*k1s*x[5i+5]\n",
    "        out[5i+1,5i+5] = delT*k1s*x[5i+4]\n",
    "        \n",
    "        # partials of  x[5i-3] - x[5i+2] + delT*(p[2]*cO2*x[5i+1]-(p[2]/K3+p[3])x[5i+2])\n",
    "        out[5i+2, 5i-3] = one(p[1])\n",
    "        out[5i+2, 5i+1] = (delT*cO2)*p[2]\n",
    "        out[5i+2, 5i+2] = -one(p[1])-delT*(p[2]/K3+p[3])\n",
    "        \n",
    "        # partials of  x[5i-2] - x[5i+3] + delT*(p[1]*cO2*x[5i+1]-p[1]/K2)\n",
    "        out[5i+3, 5i-2] = one(p[1])\n",
    "        out[5i+3, 5i+1] = (cO2*delT)*p[1]*x[5i+1]\n",
    "        out[5i+3, 5i+3] = -one(p[1])\n",
    "        \n",
    "        # partials of  x[5i-1] - x[5i+4] + delT*(-k1s*x[5i+4]*x[5i+5])\n",
    "        out[5i+4, 5i-1] = one(p[1])\n",
    "        out[5i+4, 5i+4] = -one(p[1]) + (-delT*k1s)*x[5i+5]\n",
    "        out[5i+4, 5i+5] = (-delT*k1s)*x[5i+4]\n",
    "        \n",
    "        # partials of  x[5i] - x[5i+5] + delT*(k1*x[5i+4]*x[5i+5]) # TO CHECK\n",
    "        out[5i+5, 5i] = one(p[1])\n",
    "        out[5i+5, 5i+4] = (delT*k1)*x[5i+5]\n",
    "        out[5i+5, 5i+5] = -one(p[1]) + (-delT*k1s)*x[5i+4]\n",
    "    end\n",
    "    \n",
    "end"
   ]
  },
  {
   "cell_type": "markdown",
   "metadata": {},
   "source": [
    "## Solve the implicit formulation"
   ]
  },
  {
   "cell_type": "code",
   "execution_count": null,
   "metadata": {},
   "outputs": [],
   "source": [
    "var, opt = solve_implicit(f, h!, xl, xu, pl, pu, hj = hj!)"
   ]
  },
  {
   "cell_type": "markdown",
   "metadata": {},
   "source": [
    "### Reference:\n",
    "1. 1. J. W. Taylor, et al., Direct measurement of the fast, reversible addition of oxygen to cyclohexadienyl radicals in nonpolar solvents, *J. Phys. Chem. A.*, **2004**, 108, 7193–7203.\n",
    "2. A. B. Singer, et al., Global dynamic optimization for parameter estimation in chemical kinetics, *J. Phys. Chem A.*, **2006**, 110, 971–976.\n",
    "3. Mitsos, A. Chachuat, B., & Barton, P.I., McCormick-based relaxations of algorithms, *SIAM Journal on Optimization*, *SIAM*, **2009**, 20(2), 573-601.\n",
    "4. Stuber, M.D., Scott, J.K., & Barton, P.I.: Convex and concave relaxations of implicit functions. *Optim. Methods Softw.*, **2015** 30(3), 424–460."
   ]
  }
 ],
 "metadata": {
  "kernelspec": {
   "display_name": "Julia 1.0.2",
   "language": "julia",
   "name": "julia-1.0"
  },
  "language_info": {
   "file_extension": ".jl",
   "mimetype": "application/julia",
   "name": "julia",
   "version": "1.0.2"
  }
 },
 "nbformat": 4,
 "nbformat_minor": 2
}
