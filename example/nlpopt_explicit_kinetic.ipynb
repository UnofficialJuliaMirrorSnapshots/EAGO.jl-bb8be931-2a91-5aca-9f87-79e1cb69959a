{
 "cells": [
  {
   "cell_type": "markdown",
   "metadata": {},
   "source": [
    "# Using  EAGO with a script-defined problem:  \n",
    "### *Kinetic parameter estimation with explicit Euler integration*\n",
    "\n",
    "[Matthew Wilhelm](https://psor.uconn.edu/person/matthew-wilhelm/)  \n",
    "Department of Chemical and Biomolecular Engineering, University of Connecticut\n",
    "\n",
    "Consider the kinetic parameter estimation problem described in [1,2,3]. It consists of a system of ODEs that describe the concentration of the involved species after initial laser flash pyrolysis given below.\n",
    "\n",
    "$\n",
    "\\begin{align*}\n",
    "    \\frac{dx_A}{dt} &= k_1 x_Z x_Y - c_{O_2} (k_{2f}+k_{3f})x_A + \\frac{k2f}{K2}x_D + \\frac{k3f}{K3}x_B - k_5 x_A^2 \\\\\n",
    "     \\frac{dx_B}{dt} &= c_{O_2}k_{3f}x_A - \\left(\\frac{k3f}{K3}+k_4\\right)x_B, \\quad \\frac{dx_Z}{dt} = - k_1 x_Z x_Y \\\\\n",
    "     \\frac{dx_D}{dt} &= c_{O_2}k_{2f}x_A - \\frac{k2f}{K2}x_D, \\quad \\frac{dx_Y}{dt} = - k_1s x_Z x_Y \\\\\n",
    "x_A(0) &= 0,  x_B(0) = 0, x_D(0) = 0, x_Y(0) = 0.4, x_Z(0) = 140     \n",
    "\\end{align*}\n",
    "$\n",
    "\n",
    "where $x_j$ is the concentration of species $j \\in \\{A,B,D,Y,Z\\}$. The constants are then given by $T = 273$, $K2 = 46\\exp(6500/T-18)$, $K_3=2K_2$, $k_1 = 53$, $k_{1s} = k_1 \\times 10^{-6}$, $k_5 = 1.2\\times 10^{-3}$, and $C_{O_2} = 2\\times 10^{-3}$. \n",
    "\n",
    "One seeks to determine the reaction rate constant from measured intensity data by minimizing the sum-square-error. A known dependency of intensity on concentrations exists and is given by $I = x_A + \\frac{2}{21}x_B + \\frac{2}{21}x_D$. The reaction rate constants are $k_{2f} \\in [10,1200]$, $k_{3f} \\in [10,1200]$, and $k_4 \\in [0.001,40]$ and form the decision space vector $\\mathbf{p} = (k_{2f},k_{3f},k_4)$. In the below example, we'll discretize the ODE system via an explicit Euler method taking $\\Delta t = 0.01$ and formulate an optimization problem which we'll then solve using EAGO's **script_solve** function.\n",
    "\n",
    "For reference, the explicit Euler discretization is given by:\n",
    "\n",
    "$\n",
    "\\begin{align*}\n",
    "x_A^{i+1} &= x_A^i + \\Delta t \\left(k_1 x_Y^{i} x_Z^{i} - C_{O2}(k_{2f}+k_{3f})x_A^i + \\frac{k_{2f}}{K_2}x^i_D + \\frac{k_{3f}}{K_3}x^i_B - k_5 (x_A^i)^2 \\right) \\\\\n",
    "x_B^{i+1} &= x_B^i + \\Delta t \\left(k_{3f}C_{O2}x_A^i - \\left(\\frac{k_{3f}}{K_3} + k_4\\right)x_B^i\\right) \\\\\n",
    "x_D^{i+1} &= x_D^i + \\Delta t \\left(k_{2f}C_{O2}x_A^i - \\frac{k_{2f}}{K_2} x_D^i\\right) \\\\\n",
    "x_Y^{i+1} &= x_Y^i + \\Delta t \\left(-k_{1s} x_Y^i x_Z^i \\right) \\\\\n",
    "x_Z^{i+1} &= x_Z^i + \\Delta t \\left(k_{1} x_Y^i x_Z^i\\right)\n",
    "\\end{align*}\n",
    "$"
   ]
  },
  {
   "cell_type": "markdown",
   "metadata": {},
   "source": [
    "### Load data\n",
    "We now load create an objective function with the data loaded from \"kinetic_intensity_data.csv\" file and bounds given in the \"kinetic_intensity_explicit_bounds.csv\"."
   ]
  },
  {
   "cell_type": "code",
   "execution_count": 9,
   "metadata": {},
   "outputs": [
    {
     "data": {
      "text/plain": [
       "1×3 Array{Float64,2}:\n",
       " 1200.0  1200.0  40.0"
      ]
     },
     "execution_count": 9,
     "metadata": {},
     "output_type": "execute_result"
    }
   ],
   "source": [
    "using EAGO, JuMP, DataFrames, CSV\n",
    "\n",
    "data = CSV.read(\"kinetic_intensity_data.csv\")\n",
    "\n",
    "pl = [10.0  10.0  0.001]\n",
    "pu = [1200.0  1200.0  40.0]"
   ]
  },
  {
   "cell_type": "markdown",
   "metadata": {},
   "source": [
    "### Define explicit Euler integration function"
   ]
  },
  {
   "cell_type": "code",
   "execution_count": 10,
   "metadata": {},
   "outputs": [
    {
     "data": {
      "text/plain": [
       "explicit_euler_integration (generic function with 1 method)"
      ]
     },
     "execution_count": 10,
     "metadata": {},
     "output_type": "execute_result"
    }
   ],
   "source": [
    "# Define the explicit Euler integration scheme\n",
    "function explicit_euler_integration(p)\n",
    "   \n",
    "   x = zeros(1000,typeof(p))     # data storage array\n",
    "   x[4] = 0.4; x[5] = 140        # sets initial condition\n",
    "\n",
    "   # sets known parameter values\n",
    "   T = 273; delT = 0.01; cO2 = 2e-3; k1 = 53; k1s = k1*1e-6\n",
    "   K2 = 46exp(6500/T-18); K3 = 2*K2; h = delT  \n",
    "   \n",
    "   for i=1:200\n",
    "        \n",
    "      # Advances one time-step\n",
    "      temp1 = k1*x[5i-1]*x[5i]-cO2*(p[1]+p[2])*x[5i-4]\n",
    "      temp2 = p[1]*x[5i-2]/K2+p[2]*x[5i-3]/K3-k5*x[5i-4]^2\n",
    "       \n",
    "      x[5i+1] = x[5i-4] + h*(temp1 + temp2)\n",
    "      x[5i+2] = x[5i-3] + h*(p[2]*cO2*x[5i-4]-(p[2]/K3+p[3])x[5i-3])\n",
    "      x[5i+3] = x[5i-2] + h*(p[1]*cO2*x[5i-4]-p[1]*x[5i-2]/K2)\n",
    "      x[5i+4] = x[5i-1] + h*(-k1s*x[5i-1]*x[5i])\n",
    "      x[5i+5] = x[5i] + h*(-k1s*x[5i-1]*x[5i])\n",
    "    end\n",
    "    \n",
    "    return x\n",
    "end"
   ]
  },
  {
   "cell_type": "markdown",
   "metadata": {},
   "source": [
    "### Define the object function"
   ]
  },
  {
   "cell_type": "code",
   "execution_count": 11,
   "metadata": {},
   "outputs": [
    {
     "data": {
      "text/plain": [
       "objective (generic function with 1 method)"
      ]
     },
     "execution_count": 11,
     "metadata": {},
     "output_type": "execute_result"
    }
   ],
   "source": [
    "# Defines function for intensity\n",
    "Intensity(x,y,z) = x + (2.0/21.0)*y + (2.0/21.0)*z\n",
    "\n",
    "# Defines the objective\n",
    "function objective(p)\n",
    "    \n",
    "    # performs the explicit euler integration of the ODE system\n",
    "    x = explicit_euler_integration(p)\n",
    "    \n",
    "    # Computes the sum-square-error (SSE)\n",
    "    SSE = 0.0\n",
    "    for i=1:200\n",
    "        SSE += (Intensity(x[5i-4],x[5i-3],x[5i-2]) - data[:intensity][i])^2\n",
    "    end\n",
    "    \n",
    "    return SSE\n",
    "end"
   ]
  },
  {
   "cell_type": "markdown",
   "metadata": {},
   "source": [
    "### Solve the problem and get outputs"
   ]
  },
  {
   "cell_type": "code",
   "execution_count": 13,
   "metadata": {},
   "outputs": [
    {
     "ename": "UndefVarError",
     "evalue": "UndefVarError: h not defined",
     "output_type": "error",
     "traceback": [
      "UndefVarError: h not defined",
      "",
      "Stacktrace:",
      " [1] #solve_script#88(::Nothing, ::Nothing, ::Nothing, ::Function, ::Function, ::Array{Float64,2}, ::Array{Float64,2}, ::Optimizer) at C:\\Users\\wilhe\\.julia\\dev\\EAGO\\src\\Script\\solve_script.jl:42",
      " [2] solve_script(::Function, ::Array{Float64,2}, ::Array{Float64,2}, ::Optimizer) at C:\\Users\\wilhe\\.julia\\dev\\EAGO\\src\\Script\\solve_script.jl:39",
      " [3] top-level scope at In[13]:3"
     ]
    }
   ],
   "source": [
    "# The optimizer is called using the explicit relaxation scheme\n",
    "opt = EAGO.Optimizer()\n",
    "var, opt = solve_script(objective, pl, pu, opt)\n",
    "\n",
    "objective_value = JuMP.get_objective_value(opt)\n",
    "feasibility = JuMP.get_feasibility(opt)\n",
    "solution = JuMP.get_value.(var)"
   ]
  },
  {
   "cell_type": "markdown",
   "metadata": {},
   "source": [
    "Note that the following kinetic problem can also be solved using an implicit Euler discretizaton scheme as illustrated in the [*nlpopt_implicit_kinetic.ipynb*](./nlpopt_implicit_kinetic.ipynb) notebook. Note that the EAGO solver defaults to refine interval bounds using subgradients as described in [4,5] for it's basic **JuMP.optimize!** and **script_solve** routines."
   ]
  },
  {
   "cell_type": "markdown",
   "metadata": {},
   "source": [
    "### References\n",
    "1. J. W. Taylor, et al., Direct measurement of the fast, reversible addition of oxygen to cyclohexadienyl radicals in nonpolar solvents, *J. Phys. Chem. A.*, **2004**, 108, 7193–7203.\n",
    "2. A. B. Singer, et al., Global dynamic optimization for parameter estimation in chemical kinetics, *J. Phys. Chem A.*, **2006**, 110, 971–976.\n",
    "3. Mitsos, A. Chachuat, B., & Barton, P.I., McCormick-based relaxations of algorithms, *SIAM Journal on Optimization*, *SIAM*, **2009**, 20(2), 573-601.\n",
    "4. Stuber, M.D., Scott, J.K., & Barton, P.I.: Convex and concave relaxations of implicit functions. *Optim. Methods Softw.*, **2015** 30(3), 424–460.\n",
    "5. Najman, J., Mitsos, A., Tighter McCormick relaxations through subgradient propagation *arXiv preprint* arXiv:1710.09188"
   ]
  }
 ],
 "metadata": {
  "kernelspec": {
   "display_name": "Julia 1.0.2",
   "language": "julia",
   "name": "julia-1.0"
  },
  "language_info": {
   "file_extension": ".jl",
   "mimetype": "application/julia",
   "name": "julia",
   "version": "1.0.2"
  }
 },
 "nbformat": 4,
 "nbformat_minor": 2
}
