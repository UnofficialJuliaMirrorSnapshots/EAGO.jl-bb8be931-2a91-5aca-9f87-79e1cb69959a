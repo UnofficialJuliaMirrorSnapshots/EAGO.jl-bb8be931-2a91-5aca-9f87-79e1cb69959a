{
 "cells": [
  {
   "cell_type": "markdown",
   "metadata": {},
   "source": [
    "# Solving a semi-infinite program (SIP) with equality constraints\n",
    "\n",
    "[Matthew Wilhelm](https://psor.uconn.edu/person/matthew-wilhelm/)  \n",
    "Department of Chemical and Biomolecular Engineering, University of Connecticut"
   ]
  },
  {
   "cell_type": "markdown",
   "metadata": {},
   "source": [
    "### Using EAGO to solve a SIP w/ equality constraints\n",
    "\n",
    "In general, the solution of semi-infinite programs with nonconvex semi-infinite equality in the form given below are extremely challenging. The general form of such problems is shown below:\n",
    "\n",
    "$\n",
    "\\begin{align}\\label{form:SIPImplicit}\n",
    "    f^*=&\\min_{\\mathbf y}f(\\mathbf{y}) \\\\\n",
    "    &{\\rm s.t.}\\; \\max_{\\mathbf{p,z}}{g(\\mathbf{z,y,p})}\\le 0 \\\\\n",
    "    &{\\; \\qquad}{\\rm s.t.}\\; \\mathbf{h(z,y,p) =  0} \\\\\n",
    "    & \\mathbf{y} \\in Y = \\{y \\in \\mathbb{R} : \\mathbf{y^{L}} \\leq \\mathbf{y} \\leq \\mathbf{y^{U}}\\} \\\\\n",
    "    & \\mathbf{p} \\in P = \\{p \\in \\mathbb{R} : \\mathbf{p^{L}} \\leq \\mathbf{p} \\leq \\mathbf{p^{U}}\\} \\\\\n",
    "    & \\mathbf{z} \\in D_{x} \\subset \\mathbb{R}^{n_{x}}\n",
    "\\end{align}\n",
    "$\n",
    "\n",
    "EAGO implements the impSIPres algorithm of [1] to determine a globally optimal solution to problems of the above form subject to the stiputation that $\\mathbf{h(z,y,p) =  0}$ uniquely determines $y$ as an implicit function of $z$ and $p$ on $Y \\times P \\times D_x$. This accomplished using the `implicit_sip_solve` function which returns the optimal value, the solution, and a boolean feasibility value. To illustrate the functions use, a simple example is presented here:\n",
    "\n",
    "$\n",
    "\\begin{align}\n",
    "    f(y) &= (y-3.5)^4 - 5(y-3.5)^3 -(y-3.5)^2 + 30(y-3.5) \\\\\n",
    "    h(z,y,p) &= z - (y - y^3/6 + y^5/120)/\\sqrt{z} - p = 0 \\\\\n",
    "    g(z,y,p) &= z + cos(y-p/90) - p \\leq 0 \\\\\n",
    "     &{\\; \\qquad}y \\in Y = [0.5,80]\\\\\n",
    "     &{\\; \\qquad}p \\in P = [80,120]  \\label{ex:equalSIP}\n",
    "\\end{align}\n",
    "$"
   ]
  },
  {
   "cell_type": "code",
   "execution_count": 1,
   "metadata": {},
   "outputs": [
    {
     "name": "stderr",
     "output_type": "stream",
     "text": [
      "┌ Info: Precompiling EAGO [bb8be931-2a91-5aca-9f87-79e1cb69959a]\n",
      "└ @ Base loading.jl:1192\n",
      "┌ Warning: Package EAGO does not have CPLEX in its dependencies:\n",
      "│ - If you have EAGO checked out for development and have\n",
      "│   added CPLEX as a dependency but haven't updated your primary\n",
      "│   environment's manifest file, try `Pkg.resolve()`.\n",
      "│ - Otherwise you may need to report an issue with EAGO\n",
      "└ Loading CPLEX into EAGO from project dependency, future warnings for EAGO are suppressed.\n",
      "ERROR: LoadError: LoadError: could not open file C:\\Users\\wilhe\\.julia\\dev\\EAGO\\src\\McCormick\\ConvexityRules\\convexity_rules.jl\n",
      "Stacktrace:\n",
      " [1] include at .\\boot.jl:317 [inlined]\n",
      " [2] include_relative(::Module, ::String) at .\\loading.jl:1044\n",
      " [3] include at .\\sysimg.jl:29 [inlined]\n",
      " [4] include(::String) at C:\\Users\\wilhe\\.julia\\dev\\EAGO\\src\\McCormick\\McCormick.jl:1\n",
      " [5] top-level scope at none:0\n",
      " [6] include at .\\boot.jl:317 [inlined]\n",
      " [7] include_relative(::Module, ::String) at .\\loading.jl:1044\n",
      " [8] include at .\\sysimg.jl:29 [inlined]\n",
      " [9] include(::String) at C:\\Users\\wilhe\\.julia\\dev\\EAGO\\src\\EAGO.jl:1\n",
      " [10] top-level scope at none:0\n",
      " [11] include at .\\boot.jl:317 [inlined]\n",
      " [12] include_relative(::Module, ::String) at .\\loading.jl:1044\n",
      " [13] include(::Module, ::String) at .\\sysimg.jl:29\n",
      " [14] top-level scope at none:2\n",
      " [15] eval at .\\boot.jl:319 [inlined]\n",
      " [16] eval(::Expr) at .\\client.jl:393\n",
      " [17] top-level scope at .\\none:3\n",
      "in expression starting at C:\\Users\\wilhe\\.julia\\dev\\EAGO\\src\\McCormick\\McCormick.jl:42\n",
      "in expression starting at C:\\Users\\wilhe\\.julia\\dev\\EAGO\\src\\EAGO.jl:20\n"
     ]
    },
    {
     "ename": "ErrorException",
     "evalue": "Failed to precompile EAGO [bb8be931-2a91-5aca-9f87-79e1cb69959a] to C:\\Users\\wilhe\\.julia\\compiled\\v1.0\\EAGO\\t0N0c.ji.",
     "output_type": "error",
     "traceback": [
      "Failed to precompile EAGO [bb8be931-2a91-5aca-9f87-79e1cb69959a] to C:\\Users\\wilhe\\.julia\\compiled\\v1.0\\EAGO\\t0N0c.ji.",
      "",
      "Stacktrace:",
      " [1] error(::String) at .\\error.jl:33",
      " [2] macro expansion at .\\logging.jl:311 [inlined]",
      " [3] compilecache(::Base.PkgId, ::String) at .\\loading.jl:1190",
      " [4] macro expansion at .\\logging.jl:309 [inlined]",
      " [5] _require(::Base.PkgId) at .\\loading.jl:947",
      " [6] require(::Base.PkgId) at .\\loading.jl:858",
      " [7] macro expansion at .\\logging.jl:309 [inlined]",
      " [8] require(::Module, ::Symbol) at .\\loading.jl:840",
      " [9] top-level scope at In[1]:1"
     ]
    }
   ],
   "source": [
    "using EAGO\n",
    "\n",
    "# Variable bounds\n",
    "xl = [0.5]; xu = [8.0]; yl = [68.8]; yu = [149.9]\n",
    "pl = [80]; pu = [120]; \n",
    "\n",
    "# Objective and constraint functions are defined\n",
    "f(y) =  (y[1]-3.5)^4 - 5(y[1]-3.5)^3 - (y[1]-3.5)^2 + 30(y[1]-3.5)\n",
    "gSIP(z,y,p) = z[1] + cos(y[1]-p[1]/90) - p[1]\n",
    "function h!(out,z,y,p)\n",
    "    out[1] = z[1] - (y[1] - y[1]^3/6 + y[1]^5/120)/sqrt(z[1]) - p[1]\n",
    "end\n",
    "\n",
    "# The impSIPres routine is run\n",
    "low_val, upp_val, sol, feas = implicit_sip_solve(f, h!, gSIP, xl, xu, yl, yu, pl, pu)\n",
    "\n",
    "println(\"The global minimum of the semi-infinite program is between: $low_val and $upp_val.\")\n",
    "println(\"The global minimum is attained at: y = $val.\")"
   ]
  },
  {
   "cell_type": "markdown",
   "metadata": {},
   "source": [
    "## References\n",
    "1. M.D. Stuber and P.I. Barton, Semi-infinite optimization with implicit functions, *Industrial & Engineering Chemistry Research*, 54 (2015), pp. 307–317."
   ]
  }
 ],
 "metadata": {
  "kernelspec": {
   "display_name": "Julia 1.0.2",
   "language": "julia",
   "name": "julia-1.0"
  },
  "language_info": {
   "file_extension": ".jl",
   "mimetype": "application/julia",
   "name": "julia",
   "version": "1.0.2"
  }
 },
 "nbformat": 4,
 "nbformat_minor": 2
}
