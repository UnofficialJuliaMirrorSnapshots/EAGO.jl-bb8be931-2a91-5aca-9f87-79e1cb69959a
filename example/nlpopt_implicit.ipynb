{
 "cells": [
  {
   "cell_type": "markdown",
   "metadata": {},
   "source": [
    "# Using  EAGO with a script-defined problem:  \n",
    "### *Implicit relaxation of state functions*\n",
    "\n",
    "[Matthew Wilhelm](https://psor.uconn.edu/person/matthew-wilhelm/)  \n",
    "Department of Chemical and Biomolecular Engineering, University of Connecticut\n",
    "\n",
    "EAGO includes a specialized series of routines which can solve certain optimization problems by relaxing implicit functions directly without the introduction of additional auxilliary variables. The implicit functions, $\\mathbf{x(p)}$ are defined by a series of equalities $\\mathbf{h}(\\mathbf{x},\\mathbf{p}) = \\mathbf{0}$ on some domain $(X \\times P)$ allow for the problem to be treated implicitly using the below form. While exact evaluations of the objective function and constraints in this form are difficult, relaxations used in global optimization are much easier to calculate. In some cases, this problem may be much easier to solve when formulated in this manner due to a significant reduction in decision variable space (in cases where $n_x >> n_p$). \n",
    "\n",
    "$\n",
    "\\begin{align}\\label{form:2}\n",
    "    f^*=&\\min_{\\mathbf p \\in P}f(\\mathbf x(\\mathbf p),\\mathbf p)\\\\\n",
    "    &{\\rm s.t.}\\; \\mathbf{g(x(p),p)\\le 0}.\n",
    "\\end{align}\n",
    "$"
   ]
  },
  {
   "cell_type": "markdown",
   "metadata": {},
   "source": [
    "## Formulate objective\n",
    "We formulate the objective as a regular function of the state variables $\\mathbf{x}$ and the control variables $\\mathbf{p}$."
   ]
  },
  {
   "cell_type": "code",
   "execution_count": null,
   "metadata": {},
   "outputs": [],
   "source": [
    "using EAGO, MathOptInterface\n",
    "\n",
    "f(x, p) = x[1]"
   ]
  },
  {
   "cell_type": "markdown",
   "metadata": {},
   "source": [
    "## Define the implicit function & jacobian of state function\n",
    "\n",
    "We now define the function $\\mathbf{h}(\\mathbf{x},\\mathbf{p}) = \\mathbf{0}$ which defines the state variable. EAGO's implicit solver assumes this function is defined in place as a function of the output variables, state variables, and control variables, respectively."
   ]
  },
  {
   "cell_type": "code",
   "execution_count": null,
   "metadata": {},
   "outputs": [],
   "source": [
    "function h!(out, x, p)\n",
    "    out[1] = x[1]^2 + x[1]*p[1] + 4.0\n",
    "end"
   ]
  },
  {
   "cell_type": "markdown",
   "metadata": {},
   "source": [
    "We now define the the jacobian of the state function *w.r.t* to state variables only. This function must be supplied in place as this allows better integration with different linear algebra libraries. **EAGO** will use an automated differentiation library to calculate this function if the user does not provide it. However, some performance improvement is expected when a user-defined function is supplied. Typically, this improvement is on the order of 3-10x."
   ]
  },
  {
   "cell_type": "code",
   "execution_count": null,
   "metadata": {},
   "outputs": [],
   "source": [
    "function hj!(out, x, p)\n",
    "    out[1] = 2.0*x[1] + p[1]\n",
    "end"
   ]
  },
  {
   "cell_type": "markdown",
   "metadata": {},
   "source": [
    "## Solve the implicit formulation"
   ]
  },
  {
   "cell_type": "code",
   "execution_count": null,
   "metadata": {},
   "outputs": [],
   "source": [
    "p_L = [6.0];\n",
    "p_U = [9.0];\n",
    "x_L = [-0.78];\n",
    "x_U = [-0.4]\n",
    "\n",
    "opt = EAGO.Optimizer(absolute_tolerance=1e-3)\n",
    "var, opt = solve_implicit(f, h!, x_L, x_U, p_L, p_U, opt, hj!, nothing)"
   ]
  },
  {
   "cell_type": "markdown",
   "metadata": {},
   "source": [
    "## Retrieve solution information\n",
    "\n",
    "As this solver interfaces directly with the MOI EAGO Optimizer to support a nonstandard form, information from the solution is obtained by using the MOI access functions."
   ]
  },
  {
   "cell_type": "code",
   "execution_count": null,
   "metadata": {},
   "outputs": [],
   "source": [
    "# get the primal status code\n",
    "primal_status = MOI.get(opt, MOI.PrimalStatus())\n",
    "\n",
    "# get the termination status code\n",
    "termination_status = MOI.get(opt, MOI.TerminationStatus())\n",
    "\n",
    "# retrieve the objective value\n",
    "obj_value = MOI.get(opt, MOI.ObjectiveValue())\n",
    "\n",
    "# retrieve the primal variable results for the decision variables (nx+1):(nx+np)\n",
    "primal_variable_result = MOI.get(opt, MOI.VariablePrimal(), var[(1:nx):(nx+np)])\n",
    "\n",
    "println(\"The primal status is $(primal_status)\")\n",
    "println(\"The termination status is $(termination_status)\")\n",
    "println(\"The objective value is $(obj_value)\")\n",
    "println(\"The primal variable result is $(primal_variable_result)\")"
   ]
  },
  {
   "cell_type": "markdown",
   "metadata": {},
   "source": [
    "### Reference:\n",
    "1. 1. J. W. Taylor, et al., Direct measurement of the fast, reversible addition of oxygen to cyclohexadienyl radicals in nonpolar solvents, *J. Phys. Chem. A.*, **2004**, 108, 7193–7203.\n",
    "2. A. B. Singer, et al., Global dynamic optimization for parameter estimation in chemical kinetics, *J. Phys. Chem A.*, **2006**, 110, 971–976.\n",
    "3. Mitsos, A. Chachuat, B., & Barton, P.I., McCormick-based relaxations of algorithms, *SIAM Journal on Optimization*, *SIAM*, **2009**, 20(2), 573-601.\n",
    "4. Stuber, M.D., Scott, J.K., & Barton, P.I.: Convex and concave relaxations of implicit functions. *Optim. Methods Softw.*, **2015** 30(3), 424–460."
   ]
  }
 ],
 "metadata": {
  "kernelspec": {
   "display_name": "Julia 1.1.0",
   "language": "julia",
   "name": "julia-1.1"
  },
  "language_info": {
   "file_extension": ".jl",
   "mimetype": "application/julia",
   "name": "julia",
   "version": "1.1.0"
  }
 },
 "nbformat": 4,
 "nbformat_minor": 2
}
