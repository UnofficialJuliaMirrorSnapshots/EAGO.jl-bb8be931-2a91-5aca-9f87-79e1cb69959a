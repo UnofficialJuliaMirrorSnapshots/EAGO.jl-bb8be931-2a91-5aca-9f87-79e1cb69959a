{
 "cells": [
  {
   "cell_type": "markdown",
   "metadata": {},
   "source": [
    "# Solving a semi-infinite program (SIP) in EAGO\n",
    "\n",
    "[Matthew Wilhelm](https://psor.uconn.edu/person/matthew-wilhelm/)  \n",
    "Department of Chemical and Biomolecular Engineering, University of Connecticut"
   ]
  },
  {
   "cell_type": "markdown",
   "metadata": {},
   "source": [
    "### Using EAGO to solve a SIP\n",
    "\n",
    "Semi-infinite programming remains an active area of research. In general, the solution of semi-infinite programs with nonconvex semi-infinite constraints of the below formare extremely challenging:\n",
    "\n",
    "$\n",
    "\\begin{align}\\label{form:SIPExplicit}\n",
    "    f^*=&\\min_{\\mathbf x}f(\\mathbf{x}) \\\\\n",
    "    &{\\rm s.t.}\\; \\max_{\\mathbf{p}}{g(\\mathbf{x,p})}\\le 0 \\\\\n",
    "    & \\mathbf{x} \\in X = \\{x \\in \\mathbb{R} : \\mathbf{x^{L}} \\leq \\mathbf{x} \\leq \\mathbf{x^{U}}\\} \\\\\n",
    "    & \\mathbf{p} \\in P = \\{p \\in \\mathbb{R} : \\mathbf{p^{L}} \\leq \\mathbf{p} \\leq \\mathbf{p^{U}}\\} \\\\\n",
    "\\end{align}\n",
    "$\n",
    "\n",
    "EAGO implements the SIPres of [1] to determine a globally optimal solution to problems of the above form. This accomplished using the `explicit_sip_solve` function which returns the optimal value, the solution, and a boolean feasibility value. To illustrate the functions use, a simple example is presented here which solves the below problem:\n",
    "\n",
    "$\n",
    "\\begin{align}\n",
    "    f(\\mathbf{x}) &= (1/3)x_1^2 + x_2^2 + x_1/2 \\\\\n",
    "    g(\\mathbf{x},p) &= (1-(x_1^2)(p^2))^2 - x_1p^2 - x_2^2 + x_2 \\leq 0 \\\\\n",
    "     &{\\; \\qquad}\\mathbf{x} \\in X = [-1000, 1000]^2 \\\\\n",
    "     &{\\; \\qquad}p \\in P = [0.0, 1.0]  \\label{ex:equalSIP}\n",
    "\\end{align}\n",
    "$"
   ]
  },
  {
   "cell_type": "code",
   "execution_count": null,
   "metadata": {},
   "outputs": [],
   "source": [
    "using EAGO, JuMP\n",
    "\n",
    "# Define semi-infinite program\n",
    "f(x) = (1/3)*x[1]^2 + x[2]^2 + x[1]/2\n",
    "gSIP(x,p) = (1.0 - (x[1]^2)*(p[1]^2))^2 - x[1]*p[1]^2 - x[2]^2 + x[2]\n",
    "\n",
    "x_l = [-1000.0, -1000.0]\n",
    "x_u = [1000.0, 1000.0]\n",
    "p_l = [0.0]\n",
    "p_u = [1.0]\n",
    "\n",
    "# Create optimizer for use in solving SIP\n",
    "opt = with_optimizer(EAGO.Optimizer, cut_max_iterations = 0,\n",
    "                                         subgrad_tighten = false,\n",
    "                                         absolute_tolerance = 1E-4,\n",
    "                                         relative_tolerance = 1E-4,\n",
    "                                         verbosity = 0)\n",
    "m = JuMP.Model(opt)\n",
    "sip_result = explicit_sip_solve(f, gSIP, x_l, x_u, p_l, p_u, m)\n",
    "\n",
    "println(\"The global minimum of the semi-infinite program is between: $(sip_result.lower_bound) and $(sip_result.upper_bound).\")\n",
    "println(\"The global minimum is attained at: x = $(sip_result.x_bar).\")\n",
    "println(\"Is the problem feasible? (sip_result.feasibility).\")"
   ]
  },
  {
   "cell_type": "markdown",
   "metadata": {},
   "source": [
    "## References\n",
    "1. A. Mitsos, Global optimization of semi-infinite programs via restriction of the right-hand side, Optimization, 60:10-11, 1291-1308, [DOI:10.1080/02331934.2010.527970](DOI:10.1080/02331934.2010.527970)"
   ]
  },
  {
   "cell_type": "code",
   "execution_count": null,
   "metadata": {},
   "outputs": [],
   "source": []
  }
 ],
 "metadata": {
  "kernelspec": {
   "display_name": "Julia 1.1.0",
   "language": "julia",
   "name": "julia-1.1"
  },
  "language_info": {
   "file_extension": ".jl",
   "mimetype": "application/julia",
   "name": "julia",
   "version": "1.1.0"
  }
 },
 "nbformat": 4,
 "nbformat_minor": 2
}
