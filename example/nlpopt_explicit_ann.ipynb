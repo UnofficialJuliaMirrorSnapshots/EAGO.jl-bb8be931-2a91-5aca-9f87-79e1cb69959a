{
 "cells": [
  {
   "cell_type": "markdown",
   "metadata": {},
   "source": [
    "# Solving simple artificial neural network to optimality in EAGO \n",
    "\n",
    "[Matthew Wilhelm](https://psor.uconn.edu/person/matthew-wilhelm/)  \n",
    "Department of Chemical and Biomolecular Engineering, University of Connecticut"
   ]
  },
  {
   "cell_type": "markdown",
   "metadata": {},
   "source": [
    "In [1,2], a surrogate ANN model of bioreactor productivity was constructed by fitting results from computationally expensive CFD simulations. The author then optimized this surrogate model to obtain ideal processing conditions. This optimization problem is given by:\n",
    "\n",
    "$\n",
    "\\begin{align}\n",
    "    \\label{prob:ANN1}\n",
    "    \\max_{\\mathbf x\\in X} B_2 + \\sum_{i=1}^{3}\\frac{2D_{i}}{1+\\exp(-2y_{i})} \\qquad \\text{where} \\qquad y_{i} =  B_i + \\sum_{i=1}^{3}\\sum_{j=1}^{8} W_{ij}x_{i}\\\\\n",
    "\\end{align}\n",
    "$\n",
    "\n",
    "We'll repeat this exercise using JuMP and EAGO.\n",
    "\n",
    "### Input parameters\n",
    "\n",
    "In the first block, we input parameters values supplied in the paper for $W$, $B$, $D$, and $X$ into Julia as simple array objects."
   ]
  },
  {
   "cell_type": "code",
   "execution_count": 1,
   "metadata": {},
   "outputs": [
    {
     "data": {
      "text/plain": [
       "-0.46"
      ]
     },
     "execution_count": 1,
     "metadata": {},
     "output_type": "execute_result"
    }
   ],
   "source": [
    "# Box constraints for input variables\n",
    "xLBD = [0.623   0.093   0.259   6.56   1114   0.013   0.127   0.004]\n",
    "xUBD = [5.89    0.5     1.0     90     25000  0.149   0.889   0.049]\n",
    "\n",
    "# Weights associated with the hidden layer\n",
    "W = [ 0.54  -1.97  0.09  -2.14  1.01  -0.58  0.45  0.26;\n",
    "     -0.81  -0.74  0.63  -1.60 -0.56  -1.05  1.23  0.93;\n",
    "     -0.11  -0.38 -1.19   0.43  1.21   2.78 -0.06  0.40]\n",
    "\n",
    "# Weights associated with the output layer\n",
    "D = [-0.91 0.11 0.52]\n",
    "\n",
    "# Bias associated with the hidden layer\n",
    "B1 = [-2.698 0.012 2.926]\n",
    "\n",
    "# Bias associated with the output layer\n",
    "B2 = -0.46"
   ]
  },
  {
   "cell_type": "markdown",
   "metadata": {},
   "source": [
    "### Construct the JuMP model and optimize\n",
    "\n",
    "We now formulate the problem using standard JuMP[3] syntax and optimize it. Note that we are forming an NLexpression object to handle the summation term to keep the code visually simple but this could be placed directly in the JuMP expressions instead."
   ]
  },
  {
   "cell_type": "code",
   "execution_count": 2,
   "metadata": {},
   "outputs": [
    {
     "name": "stderr",
     "output_type": "stream",
     "text": [
      "┌ Info: Recompiling stale cache file C:\\Users\\wilhe\\.julia\\compiled\\v1.0\\EAGO\\t0N0c.ji for EAGO [bb8be931-2a91-5aca-9f87-79e1cb69959a]\n",
      "└ @ Base loading.jl:1190\n",
      "┌ Warning: Package EAGO does not have CPLEX in its dependencies:\n",
      "│ - If you have EAGO checked out for development and have\n",
      "│   added CPLEX as a dependency but haven't updated your primary\n",
      "│   environment's manifest file, try `Pkg.resolve()`.\n",
      "│ - Otherwise you may need to report an issue with EAGO\n",
      "└ Loading CPLEX into EAGO from project dependency, future warnings for EAGO are suppressed.\n",
      "WARNING: Method definition ^(IntervalArithmetic.Interval{Float64}, Float64) in module IntervalArithmetic at C:\\Users\\wilhe\\.julia\\packages\\IntervalArithmetic\\Shw8p\\src\\intervals\\functions.jl:10 overwritten in module McCormick at C:\\Users\\wilhe\\.julia\\dev\\EAGO\\src\\McCormick\\Utilities\\fast_intervals.jl:57.\n",
      "WARNING: Method definition exp2(IntervalArithmetic.Interval{Float64}) in module IntervalArithmetic at C:\\Users\\wilhe\\.julia\\packages\\IntervalArithmetic\\Shw8p\\src\\intervals\\functions.jl:251 overwritten in module McCormick at C:\\Users\\wilhe\\.julia\\dev\\EAGO\\src\\McCormick\\Utilities\\fast_intervals.jl:60.\n",
      "WARNING: Method definition exp10(IntervalArithmetic.Interval{Float64}) in module IntervalArithmetic at C:\\Users\\wilhe\\.julia\\packages\\IntervalArithmetic\\Shw8p\\src\\intervals\\functions.jl:251 overwritten in module McCormick at C:\\Users\\wilhe\\.julia\\dev\\EAGO\\src\\McCormick\\Utilities\\fast_intervals.jl:61.\n",
      "WARNING: Method definition acosh(IntervalArithmetic.Interval{Float64}) in module IntervalArithmetic at C:\\Users\\wilhe\\.julia\\packages\\IntervalArithmetic\\Shw8p\\src\\intervals\\hyperbolic.jl:65 overwritten in module McCormick at C:\\Users\\wilhe\\.julia\\dev\\EAGO\\src\\McCormick\\Utilities\\fast_intervals.jl:64.\n",
      "WARNING: Method definition sigu(Float64, Float64) in module McCormick at C:\\Users\\wilhe\\.julia\\dev\\EAGO\\src\\McCormick\\OperatorLibrary\\ForwardOperators\\multiplication.jl:3 overwritten at C:\\Users\\wilhe\\.julia\\dev\\EAGO\\src\\McCormick\\OperatorLibrary\\ForwardOperators\\multiplication.jl:334.\n"
     ]
    },
    {
     "name": "stdout",
     "output_type": "stream",
     "text": [
      "start set to default\n",
      "end set to default\n",
      "during load\n",
      "Node ID: 1, Lower Bound: -Inf, Lower Variable Bounds:\n",
      "             [0.623, 0.093, 0.259, 6.56, 1114.0, 0.013, 0.127, 0.004], Upper Variable Bounds: [5.89, 0.5, 1.0, 90.0, 25000.0, 0.149, 0.889, 0.049]\n",
      "started initial preprocessing\n",
      "finished initial preprocessing\n",
      "during load\n",
      "post load\n",
      "started evaluating subexpressions\n",
      "k: 27, node type: Variable[3]\n",
      "k: 26, node type: Constant = 0.4\n",
      "k: 25, node type: +( node[25], node[26], )\n",
      "k: 24, node type: Variable[3]\n",
      "k: 23, node type: Constant = -0.06\n",
      "k: 22, node type: +( node[23], node[24], )\n",
      "k: 21, node type: Variable[3]\n",
      "k: 20, node type: Constant = 2.78\n",
      "k: 19, node type: +( node[21], node[22], )\n",
      "k: 18, node type: Variable[3]\n",
      "k: 17, node type: Constant = 1.21\n",
      "k: 16, node type: +( node[19], node[20], )\n",
      "k: 15, node type: Variable[3]\n",
      "k: 14, node type: Constant = 0.43\n",
      "k: 13, node type: +( node[17], node[18], )\n",
      "k: 12, node type: Variable[3]\n",
      "k: 11, node type: Constant = -1.19\n",
      "k: 10, node type: +( node[15], node[16], )\n",
      "k: 9, node type: Variable[3]\n",
      "k: 8, node type: Constant = -0.38\n",
      "k: 7, node type: +( node[13], node[14], )\n",
      "k: 6, node type: Variable[3]\n",
      "k: 5, node type: Constant = -0.11\n",
      "k: 4, node type: +( node[11], node[12], )\n",
      "k: 3, node type: +( node[3], node[4], node[5], node[6], node[7], node[8], node[9], node[10], )\n",
      "k: 2, node type: Constant = 2.926\n",
      "k: 1, node type: +( node[1], node[2], )\n",
      "k: 27, node type: Variable[2]\n",
      "k: 26, node type: Constant = 0.93\n",
      "k: 25, node type: +( node[25], node[26], )\n",
      "k: 24, node type: Variable[2]\n",
      "k: 23, node type: Constant = 1.23\n",
      "k: 22, node type: +( node[23], node[24], )\n",
      "k: 21, node type: Variable[2]\n",
      "k: 20, node type: Constant = -1.05\n",
      "k: 19, node type: +( node[21], node[22], )\n",
      "k: 18, node type: Variable[2]\n",
      "k: 17, node type: Constant = -0.56\n",
      "k: 16, node type: +( node[19], node[20], )\n",
      "k: 15, node type: Variable[2]\n",
      "k: 14, node type: Constant = -1.6\n",
      "k: 13, node type: +( node[17], node[18], )\n",
      "k: 12, node type: Variable[2]\n",
      "k: 11, node type: Constant = 0.63\n",
      "k: 10, node type: +( node[15], node[16], )\n",
      "k: 9, node type: Variable[2]\n",
      "k: 8, node type: Constant = -0.74\n",
      "k: 7, node type: +( node[13], node[14], )\n",
      "k: 6, node type: Variable[2]\n",
      "k: 5, node type: Constant = -0.81\n",
      "k: 4, node type: +( node[11], node[12], )\n",
      "k: 3, node type: +( node[3], node[4], node[5], node[6], node[7], node[8], node[9], node[10], )\n",
      "k: 2, node type: Constant = 0.012\n",
      "k: 1, node type: +( node[1], node[2], )\n",
      "k: 27, node type: Variable[1]\n",
      "k: 26, node type: Constant = 0.26\n",
      "k: 25, node type: +( node[25], node[26], )\n",
      "k: 24, node type: Variable[1]\n",
      "k: 23, node type: Constant = 0.45\n",
      "k: 22, node type: +( node[23], node[24], )\n",
      "k: 21, node type: Variable[1]\n",
      "k: 20, node type: Constant = -0.58\n",
      "k: 19, node type: +( node[21], node[22], )\n",
      "k: 18, node type: Variable[1]\n",
      "k: 17, node type: Constant = 1.01\n",
      "k: 16, node type: +( node[19], node[20], )\n",
      "k: 15, node type: Variable[1]\n",
      "k: 14, node type: Constant = -2.14\n",
      "k: 13, node type: +( node[17], node[18], )\n",
      "k: 12, node type: Variable[1]\n",
      "k: 11, node type: Constant = 0.09\n",
      "k: 10, node type: +( node[15], node[16], )\n",
      "k: 9, node type: Variable[1]\n",
      "k: 8, node type: Constant = -1.97\n",
      "k: 7, node type: +( node[13], node[14], )\n",
      "k: 6, node type: Variable[1]\n",
      "k: 5, node type: Constant = 0.54\n",
      "k: 4, node type: +( node[11], node[12], )\n",
      "k: 3, node type: +( node[3], node[4], node[5], node[6], node[7], node[8], node[9], node[10], )\n",
      "k: 2, node type: Constant = -2.698\n",
      "k: 1, node type: +( node[1], node[2], )\n",
      "evaluated NL objective\n",
      "k: 34, node type: Subexpression at 3\n",
      "k: 33, node type: Constant = -2.0\n",
      "k: 32, node type: +( node[32], node[33], )\n"
     ]
    },
    {
     "ename": "KeyError",
     "evalue": "KeyError: key 12 not found",
     "output_type": "error",
     "traceback": [
      "KeyError: key 12 not found",
      "",
      "Stacktrace:",
      " [1] getindex(::Dict{Int64,Symbol}, ::Int64) at .\\dict.jl:478",
      " [2] #forward_eval#46(::JuMP.Derivatives.UserOperatorRegistry, ::Function, ::Array{MC{8},1}, ::Array{Float64,1}, ::Array{Bool,1}, ::Array{JuMP.Derivatives.NodeData,1}, ::SparseArrays.SparseMatrixCSC{Bool,Int64}, ::Array{Float64,1}, ::Array{Float64,1}, ::NodeBB, ::Array{Float64,1}, ::Array{Float64,1}, ::Array{MC{8},1}, ::Array{MC{8},1}) at C:\\Users\\wilhe\\.julia\\dev\\EAGO\\src\\Optimizer\\DefaultOptimizer\\StandardEvaluator\\passes.jl:278",
      " [3] (::getfield(EAGO, Symbol(\"#kw##forward_eval\")))(::NamedTuple{(:user_operators,),Tuple{JuMP.Derivatives.UserOperatorRegistry}}, ::typeof(EAGO.forward_eval), ::Array{MC{8},1}, ::Array{Float64,1}, ::Array{Bool,1}, ::Array{JuMP.Derivatives.NodeData,1}, ::SparseArrays.SparseMatrixCSC{Bool,Int64}, ::Array{Float64,1}, ::Array{Float64,1}, ::NodeBB, ::Array{Float64,1}, ::Array{Float64,1}, ::Array{MC{8},1}, ::Array{MC{8},1}) at .\\none:0",
      " [4] forward_eval_all(::EAGO.Evaluator{MC{8}}, ::Array{Float64,1}) at C:\\Users\\wilhe\\.julia\\dev\\EAGO\\src\\Optimizer\\DefaultOptimizer\\StandardEvaluator\\passes.jl:389",
      " [5] forward_reverse_pass at C:\\Users\\wilhe\\.julia\\dev\\EAGO\\src\\Optimizer\\DefaultOptimizer\\StandardEvaluator\\passes.jl:462 [inlined]",
      " [6] macro expansion at C:\\Users\\wilhe\\.julia\\dev\\EAGO\\src\\Optimizer\\DefaultOptimizer\\StandardEvaluator\\get_info.jl:3 [inlined]",
      " [7] macro expansion at .\\util.jl:213 [inlined]",
      " [8] eval_objective(::EAGO.Evaluator{MC{8}}, ::Array{Float64,1}) at C:\\Users\\wilhe\\.julia\\dev\\EAGO\\src\\Optimizer\\DefaultOptimizer\\StandardEvaluator\\get_info.jl:2",
      " [9] midpoint_affine!(::Optimizer, ::Clp.Optimizer, ::NodeBB, ::EAGO.RelaxationScheme) at C:\\Users\\wilhe\\.julia\\dev\\EAGO\\src\\Optimizer\\DefaultOptimizer\\StandardForms\\midpoint_affine.jl:24",
      " [10] #relax_model!#37(::Bool, ::Function, ::Optimizer, ::Clp.Optimizer, ::NodeBB, ::EAGO.RelaxationScheme) at C:\\Users\\wilhe\\.julia\\dev\\EAGO\\src\\Relaxations\\relax_model.jl:33",
      " [11] (::getfield(EAGO, Symbol(\"#kw##relax_model!\")))(::NamedTuple{(:load,),Tuple{Bool}}, ::typeof(EAGO.relax_model!), ::Optimizer, ::Clp.Optimizer, ::NodeBB, ::EAGO.RelaxationScheme) at .\\none:0",
      " [12] default_lower_bounding!(::Optimizer, ::NodeBB) at C:\\Users\\wilhe\\.julia\\dev\\EAGO\\src\\Optimizer\\DefaultOptimizer\\Subroutines\\lower_bounding.jl:23",
      " [13] solve_nlp!(::Optimizer) at C:\\Users\\wilhe\\.julia\\dev\\EAGO\\src\\Optimizer\\BranchBound\\solve_nlp.jl:51",
      " [14] #optimize!#43(::typeof(EAGO.triv_function), ::Tuple{Int64}, ::Function, ::Optimizer) at C:\\Users\\wilhe\\.julia\\dev\\EAGO\\src\\Optimizer\\MOIWrapper\\optimize.jl:86",
      " [15] optimize! at C:\\Users\\wilhe\\.julia\\dev\\EAGO\\src\\Optimizer\\MOIWrapper\\optimize.jl:8 [inlined]",
      " [16] optimize!(::MathOptInterface.Utilities.CachingOptimizer{Optimizer,MathOptInterface.Utilities.UniversalFallback{JuMP.JuMPMOIModel{Float64}}}) at C:\\Users\\wilhe\\.julia\\packages\\MathOptInterface\\g50PO\\src\\Utilities\\cachingoptimizer.jl:165",
      " [17] optimize!(::MathOptInterface.Bridges.LazyBridgeOptimizer{MathOptInterface.Utilities.CachingOptimizer{Optimizer,MathOptInterface.Utilities.UniversalFallback{JuMP.JuMPMOIModel{Float64}}},MathOptInterface.Utilities.UniversalFallback{MathOptInterface.Bridges.AllBridgedConstraints{Float64}}}) at C:\\Users\\wilhe\\.julia\\packages\\MathOptInterface\\g50PO\\src\\Bridges\\bridgeoptimizer.jl:73",
      " [18] optimize!(::MathOptInterface.Utilities.CachingOptimizer{MathOptInterface.AbstractOptimizer,MathOptInterface.Utilities.UniversalFallback{JuMP.JuMPMOIModel{Float64}}}) at C:\\Users\\wilhe\\.julia\\packages\\MathOptInterface\\g50PO\\src\\Utilities\\cachingoptimizer.jl:165",
      " [19] #optimize!#77(::Bool, ::Bool, ::Function, ::Model, ::Nothing) at C:\\Users\\wilhe\\.julia\\packages\\JuMP\\W4knQ\\src\\optimizer_interface.jl:127",
      " [20] optimize! at C:\\Users\\wilhe\\.julia\\packages\\JuMP\\W4knQ\\src\\optimizer_interface.jl:104 [inlined] (repeats 2 times)",
      " [21] top-level scope at In[2]:8"
     ]
    }
   ],
   "source": [
    "using JuMP, EAGO\n",
    "\n",
    "# Model construction\n",
    "model = Model(with_optimizer(EAGO.Optimizer, absolute_tolerance = 0.001))\n",
    "@variable(model, xLBD[i] <= x[i=1:8] <= xUBD[i])\n",
    "@NLexpression(model, prop[i=1:3], B1[i] + sum(W[i,j]*x[i] for j in 1:8))\n",
    "@NLobjective(model, Max, B2 + sum(D[i]*(2/(1+exp(-2*prop[i]))) for i=1:3))\n",
    "\n",
    "# Solves the model\n",
    "optimize!(model)"
   ]
  },
  {
   "cell_type": "markdown",
   "metadata": {},
   "source": [
    "### Retrieve results\n",
    "\n",
    "We then recover the objective value, the solution value, and termination status codes using standard JuMP syntax."
   ]
  },
  {
   "cell_type": "code",
   "execution_count": 3,
   "metadata": {},
   "outputs": [
    {
     "ename": "JuMP.OptimizeNotCalled",
     "evalue": "JuMP.OptimizeNotCalled()",
     "output_type": "error",
     "traceback": [
      "JuMP.OptimizeNotCalled()",
      "",
      "Stacktrace:",
      " [1] moi_get_result(::MathOptInterface.Utilities.CachingOptimizer{MathOptInterface.AbstractOptimizer,MathOptInterface.Utilities.UniversalFallback{JuMP.JuMPMOIModel{Float64}}}, ::MathOptInterface.ObjectiveValue) at C:\\Users\\wilhe\\.julia\\packages\\JuMP\\W4knQ\\src\\JuMP.jl:570",
      " [2] get(::Model, ::MathOptInterface.ObjectiveValue) at C:\\Users\\wilhe\\.julia\\packages\\JuMP\\W4knQ\\src\\JuMP.jl:585",
      " [3] objective_value(::Model) at C:\\Users\\wilhe\\.julia\\packages\\JuMP\\W4knQ\\src\\objective.jl:25",
      " [4] top-level scope at In[3]:1"
     ]
    }
   ],
   "source": [
    "# Access calculated values\n",
    "fval = JuMP.objective_value(model)\n",
    "xsol = JuMP.value.(x)\n",
    "status_term = JuMP.termination_status(model)\n",
    "status_prim = JuMP.primal_status(model)\n",
    "\n",
    "println(\"EAGO terminated with a status of $status_term and a result code of $status_prim\")\n",
    "println(\"The optimal value is: $fval, the solution found is $xsol.\")"
   ]
  },
  {
   "cell_type": "markdown",
   "metadata": {},
   "source": [
    "### Reference:\n",
    "1. J. D. Smith, A. A. Neto, S. Cremaschi, and D. W. Crunkleton, CFD-based optimization of a flooded bed algae bioreactor, *Industrial & Engineering Chemistry Research*, 52 (2012), pp. 7181–7188\n",
    "2. A. M. Schweidtmann and A. Mitsos. Global Deterministic Optimization with Artificial Neural Networks Embedded [https://arxiv.org/pdf/1801.07114.pdf](https://arxiv.org/pdf/1801.07114.pdf)\n",
    "3. Iain Dunning and Joey Huchette and Miles Lubin. JuMP: A Modeling Language for Mathematical Optimization, *SIAM Review*, 59 (2017), pp. 295-320."
   ]
  }
 ],
 "metadata": {
  "kernelspec": {
   "display_name": "Julia 1.0.2",
   "language": "julia",
   "name": "julia-1.0"
  },
  "language_info": {
   "file_extension": ".jl",
   "mimetype": "application/julia",
   "name": "julia",
   "version": "1.0.2"
  }
 },
 "nbformat": 4,
 "nbformat_minor": 2
}
